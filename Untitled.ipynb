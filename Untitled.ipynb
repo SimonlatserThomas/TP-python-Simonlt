{
 "cells": [
  {
   "cell_type": "markdown",
   "metadata": {},
   "source": [
    "TP 4 : Solution car pas réussi \n",
    "=========="
   ]
  },
  {
   "cell_type": "code",
   "execution_count": 29,
   "metadata": {
    "collapsed": false
   },
   "outputs": [],
   "source": [
    "from tkinter import Tk, Canvas, Scale\n",
    "from math import sin, cos, pi\n",
    "\n",
    "def passage(x,y, a, b):\n",
    "    return (a+x, b-y)\n",
    "\n",
    "def produit(k, n, p):\n",
    "    return k*n % p\n",
    "\n",
    "def segment(cnv, k, n, p, base, a, b):\n",
    "    prod=produit(k, n, p)\n",
    "    xA, yA=base[k]\n",
    "    xB, yB=base[prod]\n",
    "    A=passage(xA, yA, a, b)\n",
    "    B=passage(xB, yB, a, b)\n",
    "    cnv.create_line(A, B)\n",
    "\n",
    "def dot(cnv, C, R=6, color='red'):\n",
    "    xC, yC=C\n",
    "    return cnv.create_oval(xC-R,yC-R,xC+R, yC+R, fill=color,\n",
    "                           outline=color)\n",
    "\n",
    "def draw_base(cnv, base, a, b):\n",
    "    p=len(base)\n",
    "    for k in range(p):\n",
    "        x, y=base[k]\n",
    "        X, Y=passage(x, y, a, b)\n",
    "        dot(cnv, (X, Y), R=2, color='black')\n",
    "\n",
    "def table(value):\n",
    "    global N\n",
    "    N=int(value)\n",
    "    show(N, P)\n",
    "\n",
    "def vertex(value):\n",
    "    global P\n",
    "    P=int(value)\n",
    "    show(N, P)\n",
    "\n",
    "def show(n,p):\n",
    "    cnv.delete(\"all\")\n",
    "    t=2*pi/p\n",
    "    base=[(R*cos(k*t), R*sin(k*t)) for k in range(p)]\n",
    "    draw_base(cnv, base, a, b)\n",
    "\n",
    "    for k in range(p):\n",
    "        segment(cnv, k, n, p, base, a, b)\n",
    "\n",
    "# Position de départ\n",
    "p=100 # nombre de points sur le cercle\n",
    "R=200\n",
    "n=5 # Table de n\n",
    "\n",
    "N=P=2\n",
    "\n",
    "master=Tk()\n",
    "a=b=1.2*R\n",
    "cnv=Canvas(master, width=2*a, height=2*b, bg='ivory')\n",
    "cnv.pack(side=\"left\")\n",
    "\n",
    "table_slider = Scale(master, label=\"Table de ...\",\n",
    "                     font=\"Arial 15 bold\",\n",
    "                     orient = \"horizontal\", command=table,\n",
    "                     from_=2, to=50, length=250)\n",
    "table_slider.pack(pady=15)\n",
    "\n",
    "vertex_slider = Scale(master, label=\"Nombre de sommets\",\n",
    "                      font=\"Arial 15 bold\",\n",
    "                      orient = \"horizontal\", command=vertex,\n",
    "                      from_=2, to=500, length=250)\n",
    "vertex_slider.pack(pady=5)\n",
    "\n",
    "master.mainloop()\n"
   ]
  },
  {
   "cell_type": "code",
   "execution_count": null,
   "metadata": {
    "collapsed": true
   },
   "outputs": [],
   "source": []
  },
  {
   "cell_type": "code",
   "execution_count": null,
   "metadata": {
    "collapsed": true
   },
   "outputs": [],
   "source": []
  }
 ],
 "metadata": {
  "kernelspec": {
   "display_name": "Python 3",
   "language": "python",
   "name": "python3"
  },
  "language_info": {
   "codemirror_mode": {
    "name": "ipython",
    "version": 3
   },
   "file_extension": ".py",
   "mimetype": "text/x-python",
   "name": "python",
   "nbconvert_exporter": "python",
   "pygments_lexer": "ipython3",
   "version": "3.5.3"
  }
 },
 "nbformat": 4,
 "nbformat_minor": 2
}
