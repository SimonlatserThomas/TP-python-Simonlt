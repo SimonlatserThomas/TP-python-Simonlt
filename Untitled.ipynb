{
 "cells": [
  {
   "cell_type": "code",
   "execution_count": 2,
   "metadata": {
    "collapsed": false
   },
   "outputs": [],
   "source": [
    "from model1 import shuffle_board, caseVide, swap, win\n",
    "from tkinter import *\n",
    "\n",
    "CANVAS_SIDE=400\n",
    "NB_SQUARES=2\n",
    "R=CANVAS_SIDE//NB_SQUARES\n",
    "\n",
    "def fill_board(cnv, board, n=NB_SQUARES):\n",
    "    cnv.delete(ALL)    \n",
    "    for i in range(n):\n",
    "        for j in range(n):\n",
    "            v=board[i][j]\n",
    "            if v:\n",
    "                cnv.create_rectangle(j*R, i*R, (1+j)*R, (1+i)*R, fill=\"lavender\")\n",
    "                cnv.create_text(j*R+R//2, i*R+R//2, text=v,  font=('courier', CANVAS_SIDE//10, 'bold'))\n",
    "\n",
    "                \n",
    "def pos2lineCol(n, x, y):\n",
    "    \n",
    "\n",
    "def melanger():\n",
    "    global board\n",
    "    # ok : un plateau terminé\n",
    "    ok=[[n*lin+col+1 for col in range(n)]\n",
    "        for lin in range(n)]\n",
    "    ok[n-1][n-1]=0\n",
    "    \n",
    "    \n",
    "    while True:\n",
    "        board=shuffle_board(n)\n",
    "        # être certain que le plateau a bien été mélangé\n",
    "        if board!=ok:\n",
    "            break\n",
    "        \n",
    "    fill_board(cnv, board)\n",
    "\n",
    "    \n",
    "def clic(event):\n",
    "    \" A coder\"\n",
    "\n",
    "\n",
    "\n",
    "master=Tk()\n",
    "cnv=Canvas(master, width=CANVAS_SIDE, height=CANVAS_SIDE, bg='ivory')\n",
    "cnv.pack(side='left')\n",
    "\n",
    "btn=Button(master, text=\"Mélanger\", command=melanger)\n",
    "btn.pack()\n",
    "\n",
    "master.bind(\"<Button-1>\", clic)\n",
    "board=None\n",
    "n=NB_SQUARES\n",
    "\n",
    "melanger()\n",
    "\n",
    "master.mainloop() \n",
    "\n"
   ]
  },
  {
   "cell_type": "code",
   "execution_count": null,
   "metadata": {
    "collapsed": true
   },
   "outputs": [],
   "source": []
  }
 ],
 "metadata": {
  "kernelspec": {
   "display_name": "Python 3",
   "language": "python",
   "name": "python3"
  },
  "language_info": {
   "codemirror_mode": {
    "name": "ipython",
    "version": 3
   },
   "file_extension": ".py",
   "mimetype": "text/x-python",
   "name": "python",
   "nbconvert_exporter": "python",
   "pygments_lexer": "ipython3",
   "version": "3.5.3"
  }
 },
 "nbformat": 4,
 "nbformat_minor": 2
}
