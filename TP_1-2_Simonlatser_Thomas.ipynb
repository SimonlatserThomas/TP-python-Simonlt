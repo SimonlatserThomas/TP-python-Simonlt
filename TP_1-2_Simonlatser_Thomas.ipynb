{
 "cells": [
  {
   "cell_type": "markdown",
   "metadata": {},
   "source": [
    "Projet Python 2019-2019 : TD n°1\n",
    "======================"
   ]
  },
  {
   "cell_type": "markdown",
   "metadata": {},
   "source": [
    "Exo 1 : puissance 4\n",
    "============"
   ]
  },
  {
   "cell_type": "code",
   "execution_count": 1,
   "metadata": {
    "collapsed": false
   },
   "outputs": [],
   "source": [
    "from tkinter import *\n",
    "WIDTH=700\n",
    "HEIGHT=600\n",
    "Puissance=Tk()\n",
    "Plateau=Canvas(Puissance, width=WIDTH, height=HEIGHT,bg=\"blue\")\n",
    "Grille=Label(Puissance, width=150, height=2,bg=\"blue\")\n",
    "Plateau.pack()\n",
    "Grille.pack()\n",
    "\n",
    "for i in range (7):\n",
    "    for j in range(6):\n",
    "        r=45\n",
    "        x=i*100+r\n",
    "        y=j*100+r\n",
    "        if (i==2 and j==3) or (i==2 and j==5):\n",
    "            cercle=Plateau.create_oval(x-r,y-r,x+r,y+r,fill=\"red\")\n",
    "        elif (i==2 and j==4) or (i==3 and j==5):\n",
    "            cercle=Plateau.create_oval(x-r,y-r,x+r,y+r,fill=\"yellow\")\n",
    "        else :\n",
    "            cercle=Plateau.create_oval(x-r,y-r,x+r,y+r,fill=\"snow\")\n",
    "Puissance.mainloop()"
   ]
  },
  {
   "cell_type": "markdown",
   "metadata": {},
   "source": [
    "Exo 2 : Foret\n",
    "===========\n"
   ]
  },
  {
   "cell_type": "code",
   "execution_count": 44,
   "metadata": {
    "collapsed": false
   },
   "outputs": [],
   "source": [
    "from tkinter import *\n",
    "from random import *\n",
    "WIDTH=500\n",
    "HEIGHT=500\n",
    "\n",
    "monde=Tk()\n",
    "foret=Canvas(monde,width=WIDTH, height=HEIGHT,bg=\"snow\")\n",
    "for i in range (0,WIDTH,25):\n",
    "    for j in range (0,HEIGHT,25):\n",
    "        if randrange(0, 3)!=2:\n",
    "            foret.create_rectangle(i, j, i+25, j+25,fill='green', outline='')\n",
    "        \n",
    "foret.pack()\n",
    "foret.mainloop()"
   ]
  },
  {
   "cell_type": "markdown",
   "metadata": {
    "collapsed": true
   },
   "source": [
    "Exo 3 : Taquin\n",
    "=========="
   ]
  },
  {
   "cell_type": "code",
   "execution_count": 58,
   "metadata": {
    "collapsed": false
   },
   "outputs": [],
   "source": [
    "from tkinter import *\n",
    "WIDTH=400\n",
    "HEIGHT=400\n",
    "tableau=[[1, 2, 3, 4],\n",
    "       [5, 6, 7, 8],\n",
    "       [9, 10, 11, 12],\n",
    "       [13,14,15 ,16 ]]\n",
    "\n",
    "FONT=('Ubuntu', 27, 'bold')\n",
    "plateau=Tk()\n",
    "taquin=Canvas(plateau, width=WIDTH, height=HEIGHT, bg=\"snow\")\n",
    "\n",
    "for i in range(4):\n",
    "    for j in range(4):\n",
    "        x=100*j\n",
    "        y=100*i\n",
    "        A=(x, y)\n",
    "        B=(x+100, y+100)\n",
    "        C=(x+50, y+50)\n",
    "        if tableau[i][j]!=16:\n",
    "            taquin.create_rectangle(A, B, fill=\"grey\")\n",
    "            taquin.create_text(C, text=tableau[i][j], fill=\"black\",font=FONT)\n",
    "taquin.pack()\n",
    "plateau.mainloop()"
   ]
  },
  {
   "cell_type": "markdown",
   "metadata": {},
   "source": [
    "Exo 4 : Solitaire et ses jetons\n",
    "==================="
   ]
  },
  {
   "cell_type": "code",
   "execution_count": 96,
   "metadata": {
    "collapsed": false,
    "scrolled": true
   },
   "outputs": [],
   "source": [
    "from tkinter import *\n",
    "WIDTH=900\n",
    "HEIGHT=900\n",
    "plateau=Tk()\n",
    "jeu=Canvas(plateau, width=WIDTH, height=HEIGHT, bg=\"snow\")\n",
    "X=450\n",
    "Y=450\n",
    "\n",
    "\n",
    "jeu.create_oval(X-450,Y-450,X+450,Y+450,fill=\"sienna3\")\n",
    "jeu.create_oval(X-25,Y-25,X+25,Y+25,fill=\"grey\",outline='')\n",
    "\n",
    "for i in range (350,551,100):\n",
    "    for j in range (150,351,100):\n",
    "        jeu.create_oval(i-25,j-25,i+25,j+25,fill=\"black\",outline='')\n",
    "        \n",
    "for i in range (150,351,100):\n",
    "    for j in range (350,551,100):\n",
    "        jeu.create_oval(i-25,j-25,i+25,j+25,fill=\"black\",outline='')\n",
    "        \n",
    "for i in range (550,751,100):\n",
    "    for j in range (350,551,100):\n",
    "        jeu.create_oval(i-25,j-25,i+25,j+25,fill=\"black\",outline='')\n",
    "        \n",
    "for i in range (350,551,100):\n",
    "    for j in range (550,751,100):\n",
    "        jeu.create_oval(i-25,j-25,i+25,j+25,fill=\"black\",outline='')\n",
    "\n",
    "jeu.pack()\n",
    "plateau.mainloop()"
   ]
  },
  {
   "cell_type": "markdown",
   "metadata": {},
   "source": [
    "Exo 5 :Multi-pointeur Phaser\n",
    "================\n"
   ]
  },
  {
   "cell_type": "code",
   "execution_count": 130,
   "metadata": {
    "collapsed": false
   },
   "outputs": [],
   "source": [
    "from tkinter import *\n",
    "from random import randrange\n",
    "\n",
    "def pointer(A, C, k):\n",
    "    xA, yA=A\n",
    "    xC, yC=C\n",
    "    xAC, yAC=(xC-xA, yC-yA)\n",
    "    AC=(xAC**2+yAC**2)**0.5\n",
    "    xu, yu=(xAC/AC, yAC/AC)\n",
    "    xM=xA+k*xu\n",
    "    yM=yA+k*yu\n",
    "    return (xM, yM)\n",
    "\n",
    "def pointillé_fleche(A, C):\n",
    "    B=pointer(A, C, -L)\n",
    "    D=pointer(A, C, WIDTH)\n",
    "    fleche.create_line(B,A, width=7, fill=\"limegreen\", arrow='last',arrowshape=(18,30, 8))\n",
    "    fleche.create_line(A,D, fill=\"limegreen\", dash=5)\n",
    "\n",
    "plateau=Tk()\n",
    "fleche=Canvas(plateau, width=WIDTH, height=HEIGHT, bg=\"gray\")\n",
    "fleche.pack()\n",
    "L=80\n",
    "WIDTH=800\n",
    "HEIGHT=800\n",
    "C=(randrange(WIDTH), randrange(HEIGHT))\n",
    "for i in range(4):\n",
    "    A=(randrange(WIDTH), randrange(HEIGHT))\n",
    "    pointillé_fleche(A,C)\n",
    "fleche.pack()\n",
    "plateau.mainloop()"
   ]
  },
  {
   "cell_type": "markdown",
   "metadata": {},
   "source": [
    "Exo 6 : tables de Micmaths\n",
    "==========================="
   ]
  },
  {
   "cell_type": "code",
   "execution_count": null,
   "metadata": {
    "collapsed": true
   },
   "outputs": [],
   "source": []
  }
 ],
 "metadata": {
  "kernelspec": {
   "display_name": "Python 3",
   "language": "python",
   "name": "python3"
  },
  "language_info": {
   "codemirror_mode": {
    "name": "ipython",
    "version": 3
   },
   "file_extension": ".py",
   "mimetype": "text/x-python",
   "name": "python",
   "nbconvert_exporter": "python",
   "pygments_lexer": "ipython3",
   "version": "3.5.3"
  }
 },
 "nbformat": 4,
 "nbformat_minor": 2
}
