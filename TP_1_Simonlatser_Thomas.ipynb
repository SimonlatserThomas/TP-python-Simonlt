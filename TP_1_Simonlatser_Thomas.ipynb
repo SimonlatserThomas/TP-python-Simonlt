{
 "cells": [
  {
   "cell_type": "markdown",
   "metadata": {},
   "source": [
    "Projet Python 2019-2019 : TD n°1\n",
    "======================"
   ]
  },
  {
   "cell_type": "markdown",
   "metadata": {},
   "source": [
    "Exo 1 : puissance 4\n",
    "============"
   ]
  },
  {
   "cell_type": "code",
   "execution_count": 70,
   "metadata": {
    "collapsed": false
   },
   "outputs": [],
   "source": [
    "from tkinter import *\n",
    "WIDTH=700\n",
    "HEIGHT=600\n",
    "Puissance=Tk()\n",
    "Plateau=Canvas(Puissance, width=WIDTH, height=HEIGHT,bg=\"blue\")\n",
    "Grille=Label(Puissance, width=150, height=2,bg=\"blue\")\n",
    "Plateau.pack()\n",
    "Grille.pack()\n",
    "\n",
    "for i in range (7):\n",
    "    for j in range(6):\n",
    "        r=45\n",
    "        x=i*100+r\n",
    "        y=j*100+r\n",
    "        if (i==2 and j==3) or (i==2 and j==5):\n",
    "            cercle=Plateau.create_oval(x-r,y-r,x+r,y+r,fill=\"red\")\n",
    "        elif (i==2 and j==4) or (i==3 and j==5):\n",
    "            cercle=Plateau.create_oval(x-r,y-r,x+r,y+r,fill=\"yellow\")\n",
    "        else :\n",
    "            cercle=Plateau.create_oval(x-r,y-r,x+r,y+r,fill=\"snow\")\n",
    "Puissance.mainloop()"
   ]
  },
  {
   "cell_type": "markdown",
   "metadata": {},
   "source": [
    "Exo 2 : Foret\n",
    "===========\n"
   ]
  },
  {
   "cell_type": "code",
   "execution_count": 90,
   "metadata": {
    "collapsed": false
   },
   "outputs": [],
   "source": [
    "from tkinter import *\n",
    "from random import *\n",
    "\n",
    "foret.mainloop()"
   ]
  },
  {
   "cell_type": "code",
   "execution_count": 91,
   "metadata": {
    "collapsed": true
   },
   "outputs": [],
   "source": []
  },
  {
   "cell_type": "code",
   "execution_count": null,
   "metadata": {
    "collapsed": true
   },
   "outputs": [],
   "source": []
  }
 ],
 "metadata": {
  "kernelspec": {
   "display_name": "Python 3",
   "language": "python",
   "name": "python3"
  },
  "language_info": {
   "codemirror_mode": {
    "name": "ipython",
    "version": 3
   },
   "file_extension": ".py",
   "mimetype": "text/x-python",
   "name": "python",
   "nbconvert_exporter": "python",
   "pygments_lexer": "ipython3",
   "version": "3.5.3"
  }
 },
 "nbformat": 4,
 "nbformat_minor": 2
}
